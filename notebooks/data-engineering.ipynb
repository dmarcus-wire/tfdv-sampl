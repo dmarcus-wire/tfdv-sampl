{
 "cells": [
  {
   "cell_type": "markdown",
   "metadata": {},
   "source": [
    "# Package installation and imports"
   ]
  },
  {
   "cell_type": "code",
   "execution_count": 1,
   "metadata": {
    "ExecuteTime": {
     "end_time": "2022-01-20T06:56:10.570563Z",
     "start_time": "2022-01-20T06:56:10.544135Z"
    }
   },
   "outputs": [],
   "source": [
    "# from the Terminal run 'pip install -r ../requirements.txt --quiet' prior to launching the notebook\n",
    "\n",
    "import tensorflow as tf\n",
    "import tensorflow_data_validation as tfdv\n",
    "from tensorflow_metadata.proto.v0 import schema_pb2\n",
    "import pandas as pd\n",
    "from sklearn.model_selection import train_test_split"
   ]
  },
  {
   "cell_type": "code",
   "execution_count": 2,
   "metadata": {},
   "outputs": [
    {
     "name": "stdout",
     "output_type": "stream",
     "text": [
      "TFDV Version: 1.3.0\n",
      "Tensorflow Version: 2.6.2\n"
     ]
    }
   ],
   "source": [
    "print('TFDV Version: {}'.format(tfdv.__version__))\n",
    "print('Tensorflow Version: {}'.format(tf.__version__))"
   ]
  },
  {
   "cell_type": "markdown",
   "metadata": {},
   "source": [
    "# Download the dataset\n",
    "\n",
    "Abstract: Two datasets are included, related to red and white vinho verde wine samples, from the north of Portugal. The goal is to model wine quality based on physicochemical tests (see [Cortez et al., 2009], [Web Link]).\n",
    "\n",
    "## Attribute Information:\n",
    "\n",
    "For more information, read [Cortez et al., 2009].\n",
    "Input variables (based on physicochemical tests): - fixed acidity \n",
    "- volatile acidit\n",
    "- citric acid\n",
    "- residual sugar\n",
    "- chlorides\n",
    "- free sulfur dioxide\n",
    "- total sulfur dioxide\n",
    "- density\n",
    "- pH\n",
    "- sulphates\n",
    "- alcohol\n",
    "Output variable (based on sensory data):\n",
    "- quality (score between 0 and 10)\n",
    "\n",
    "source: http://archive.ics.uci.edu/ml/datasets/Wine+Quality"
   ]
  },
  {
   "cell_type": "code",
   "execution_count": 32,
   "metadata": {},
   "outputs": [
    {
     "name": "stdout",
     "output_type": "stream",
     "text": [
      "--2022-01-24 22:47:02--  http://archive.ics.uci.edu/ml/machine-learning-databases/wine-quality/winequality-red.csv\n",
      "Resolving archive.ics.uci.edu (archive.ics.uci.edu)... 128.195.10.252\n",
      "Connecting to archive.ics.uci.edu (archive.ics.uci.edu)|128.195.10.252|:80... connected.\n",
      "HTTP request sent, awaiting response... 200 OK\n",
      "Length: 84199 (82K) [application/x-httpd-php]\n",
      "Saving to: ‘../data/raw/winequality-red.csv’\n",
      "\n",
      "../data/raw/winequa 100%[===================>]  82.23K  --.-KB/s    in 0.1s    \n",
      "\n",
      "2022-01-24 22:47:02 (624 KB/s) - ‘../data/raw/winequality-red.csv’ saved [84199/84199]\n",
      "\n"
     ]
    }
   ],
   "source": [
    "!wget http://archive.ics.uci.edu/ml/machine-learning-databases/wine-quality/winequality-red.csv -O ../data/raw/winequality-red.csv"
   ]
  },
  {
   "cell_type": "markdown",
   "metadata": {},
   "source": [
    "## Read in the training and evaluation data"
   ]
  },
  {
   "cell_type": "code",
   "execution_count": 51,
   "metadata": {},
   "outputs": [],
   "source": [
    "# Read in the data\n",
    "csv_path = \"../data/raw/winequality-red.csv\"\n",
    "df = pd.read_csv(csv_path, sep=\";\")"
   ]
  },
  {
   "cell_type": "code",
   "execution_count": 44,
   "metadata": {},
   "outputs": [],
   "source": [
    "# split the data to train and test\n",
    "train_df, eval_df = train_test_split(df, test_size=0.2, shuffle=False)"
   ]
  },
  {
   "cell_type": "code",
   "execution_count": 45,
   "metadata": {},
   "outputs": [
    {
     "data": {
      "text/html": [
       "<div>\n",
       "<style scoped>\n",
       "    .dataframe tbody tr th:only-of-type {\n",
       "        vertical-align: middle;\n",
       "    }\n",
       "\n",
       "    .dataframe tbody tr th {\n",
       "        vertical-align: top;\n",
       "    }\n",
       "\n",
       "    .dataframe thead th {\n",
       "        text-align: right;\n",
       "    }\n",
       "</style>\n",
       "<table border=\"1\" class=\"dataframe\">\n",
       "  <thead>\n",
       "    <tr style=\"text-align: right;\">\n",
       "      <th></th>\n",
       "      <th>fixed acidity</th>\n",
       "      <th>volatile acidity</th>\n",
       "      <th>citric acid</th>\n",
       "      <th>residual sugar</th>\n",
       "      <th>chlorides</th>\n",
       "      <th>free sulfur dioxide</th>\n",
       "      <th>total sulfur dioxide</th>\n",
       "      <th>density</th>\n",
       "      <th>pH</th>\n",
       "      <th>sulphates</th>\n",
       "      <th>alcohol</th>\n",
       "      <th>quality</th>\n",
       "    </tr>\n",
       "  </thead>\n",
       "  <tbody>\n",
       "    <tr>\n",
       "      <th>0</th>\n",
       "      <td>7.4</td>\n",
       "      <td>0.70</td>\n",
       "      <td>0.00</td>\n",
       "      <td>1.9</td>\n",
       "      <td>0.076</td>\n",
       "      <td>11.0</td>\n",
       "      <td>34.0</td>\n",
       "      <td>0.9978</td>\n",
       "      <td>3.51</td>\n",
       "      <td>0.56</td>\n",
       "      <td>9.4</td>\n",
       "      <td>5</td>\n",
       "    </tr>\n",
       "    <tr>\n",
       "      <th>1</th>\n",
       "      <td>7.8</td>\n",
       "      <td>0.88</td>\n",
       "      <td>0.00</td>\n",
       "      <td>2.6</td>\n",
       "      <td>0.098</td>\n",
       "      <td>25.0</td>\n",
       "      <td>67.0</td>\n",
       "      <td>0.9968</td>\n",
       "      <td>3.20</td>\n",
       "      <td>0.68</td>\n",
       "      <td>9.8</td>\n",
       "      <td>5</td>\n",
       "    </tr>\n",
       "    <tr>\n",
       "      <th>2</th>\n",
       "      <td>7.8</td>\n",
       "      <td>0.76</td>\n",
       "      <td>0.04</td>\n",
       "      <td>2.3</td>\n",
       "      <td>0.092</td>\n",
       "      <td>15.0</td>\n",
       "      <td>54.0</td>\n",
       "      <td>0.9970</td>\n",
       "      <td>3.26</td>\n",
       "      <td>0.65</td>\n",
       "      <td>9.8</td>\n",
       "      <td>5</td>\n",
       "    </tr>\n",
       "    <tr>\n",
       "      <th>3</th>\n",
       "      <td>11.2</td>\n",
       "      <td>0.28</td>\n",
       "      <td>0.56</td>\n",
       "      <td>1.9</td>\n",
       "      <td>0.075</td>\n",
       "      <td>17.0</td>\n",
       "      <td>60.0</td>\n",
       "      <td>0.9980</td>\n",
       "      <td>3.16</td>\n",
       "      <td>0.58</td>\n",
       "      <td>9.8</td>\n",
       "      <td>6</td>\n",
       "    </tr>\n",
       "    <tr>\n",
       "      <th>4</th>\n",
       "      <td>7.4</td>\n",
       "      <td>0.70</td>\n",
       "      <td>0.00</td>\n",
       "      <td>1.9</td>\n",
       "      <td>0.076</td>\n",
       "      <td>11.0</td>\n",
       "      <td>34.0</td>\n",
       "      <td>0.9978</td>\n",
       "      <td>3.51</td>\n",
       "      <td>0.56</td>\n",
       "      <td>9.4</td>\n",
       "      <td>5</td>\n",
       "    </tr>\n",
       "  </tbody>\n",
       "</table>\n",
       "</div>"
      ],
      "text/plain": [
       "   fixed acidity  volatile acidity  citric acid  residual sugar  chlorides  \\\n",
       "0            7.4              0.70         0.00             1.9      0.076   \n",
       "1            7.8              0.88         0.00             2.6      0.098   \n",
       "2            7.8              0.76         0.04             2.3      0.092   \n",
       "3           11.2              0.28         0.56             1.9      0.075   \n",
       "4            7.4              0.70         0.00             1.9      0.076   \n",
       "\n",
       "   free sulfur dioxide  total sulfur dioxide  density    pH  sulphates  \\\n",
       "0                 11.0                  34.0   0.9978  3.51       0.56   \n",
       "1                 25.0                  67.0   0.9968  3.20       0.68   \n",
       "2                 15.0                  54.0   0.9970  3.26       0.65   \n",
       "3                 17.0                  60.0   0.9980  3.16       0.58   \n",
       "4                 11.0                  34.0   0.9978  3.51       0.56   \n",
       "\n",
       "   alcohol  quality  \n",
       "0      9.4        5  \n",
       "1      9.8        5  \n",
       "2      9.8        5  \n",
       "3      9.8        6  \n",
       "4      9.4        5  "
      ]
     },
     "execution_count": 45,
     "metadata": {},
     "output_type": "execute_result"
    }
   ],
   "source": [
    "# Preview the training data\n",
    "train_df.head()"
   ]
  },
  {
   "cell_type": "markdown",
   "metadata": {},
   "source": [
    "# Visualize training dataset statistics\n",
    "\n",
    "TFDV accepts input formats: TFRecord, Pandas Dataframes, and CSV."
   ]
  },
  {
   "cell_type": "code",
   "execution_count": 36,
   "metadata": {},
   "outputs": [],
   "source": [
    "train_stats = tfdv.generate_statistics_from_dataframe(train_df)"
   ]
  },
  {
   "cell_type": "markdown",
   "metadata": {},
   "source": [
    "Once you generate statistics, you can visualize the results with visualize_statistics(). Uses Facets Interface for data at-a-glance."
   ]
  },
  {
   "cell_type": "code",
   "execution_count": 37,
   "metadata": {},
   "outputs": [
    {
     "data": {
      "text/html": [
       "<iframe id='facets-iframe' width=\"100%\" height=\"500px\"></iframe>\n",
       "        <script>\n",
       "        facets_iframe = document.getElementById('facets-iframe');\n",
       "        facets_html = '<script src=\"https://cdnjs.cloudflare.com/ajax/libs/webcomponentsjs/1.3.3/webcomponents-lite.js\"><\\/script><link rel=\"import\" href=\"https://raw.githubusercontent.com/PAIR-code/facets/master/facets-dist/facets-jupyter.html\"><facets-overview proto-input=\"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\"></facets-overview>';\n",
       "        facets_iframe.srcdoc = facets_html;\n",
       "         facets_iframe.id = \"\";\n",
       "         setTimeout(() => {\n",
       "           facets_iframe.setAttribute('height', facets_iframe.contentWindow.document.body.offsetHeight + 'px')\n",
       "         }, 1500)\n",
       "         </script>"
      ],
      "text/plain": [
       "<IPython.core.display.HTML object>"
      ]
     },
     "metadata": {},
     "output_type": "display_data"
    }
   ],
   "source": [
    "tfdv.visualize_statistics(train_stats)"
   ]
  },
  {
   "cell_type": "markdown",
   "metadata": {},
   "source": [
    "# Infer the data schema\n",
    "\n",
    "Create a data schema to describe the characteristics of your training set (data types, expected values, etc). \n",
    "\n",
    "- expected type of each feature\n",
    "- expected presence of each feature, in terms of a minimum count and fraction of examples that must contain the feature.\n",
    "- expected valency of the feature in each example, i.e., minimum and maximum number of values.\n",
    "- expected domain of a feature, i.e., the small universe of values for a string feature, or range for an integer feature."
   ]
  },
  {
   "cell_type": "code",
   "execution_count": 38,
   "metadata": {},
   "outputs": [],
   "source": [
    "# Infer schema from computed stats\n",
    "schema = tfdv.infer_schema(statistics=train_stats)"
   ]
  },
  {
   "cell_type": "code",
   "execution_count": 39,
   "metadata": {},
   "outputs": [
    {
     "data": {
      "text/html": [
       "<div>\n",
       "<style scoped>\n",
       "    .dataframe tbody tr th:only-of-type {\n",
       "        vertical-align: middle;\n",
       "    }\n",
       "\n",
       "    .dataframe tbody tr th {\n",
       "        vertical-align: top;\n",
       "    }\n",
       "\n",
       "    .dataframe thead th {\n",
       "        text-align: right;\n",
       "    }\n",
       "</style>\n",
       "<table border=\"1\" class=\"dataframe\">\n",
       "  <thead>\n",
       "    <tr style=\"text-align: right;\">\n",
       "      <th></th>\n",
       "      <th>Type</th>\n",
       "      <th>Presence</th>\n",
       "      <th>Valency</th>\n",
       "      <th>Domain</th>\n",
       "    </tr>\n",
       "    <tr>\n",
       "      <th>Feature name</th>\n",
       "      <th></th>\n",
       "      <th></th>\n",
       "      <th></th>\n",
       "      <th></th>\n",
       "    </tr>\n",
       "  </thead>\n",
       "  <tbody>\n",
       "    <tr>\n",
       "      <th>'fixed acidity'</th>\n",
       "      <td>FLOAT</td>\n",
       "      <td>required</td>\n",
       "      <td></td>\n",
       "      <td>-</td>\n",
       "    </tr>\n",
       "    <tr>\n",
       "      <th>'volatile acidity'</th>\n",
       "      <td>FLOAT</td>\n",
       "      <td>required</td>\n",
       "      <td></td>\n",
       "      <td>-</td>\n",
       "    </tr>\n",
       "    <tr>\n",
       "      <th>'citric acid'</th>\n",
       "      <td>FLOAT</td>\n",
       "      <td>required</td>\n",
       "      <td></td>\n",
       "      <td>-</td>\n",
       "    </tr>\n",
       "    <tr>\n",
       "      <th>'residual sugar'</th>\n",
       "      <td>FLOAT</td>\n",
       "      <td>required</td>\n",
       "      <td></td>\n",
       "      <td>-</td>\n",
       "    </tr>\n",
       "    <tr>\n",
       "      <th>'chlorides'</th>\n",
       "      <td>FLOAT</td>\n",
       "      <td>required</td>\n",
       "      <td></td>\n",
       "      <td>-</td>\n",
       "    </tr>\n",
       "    <tr>\n",
       "      <th>'free sulfur dioxide'</th>\n",
       "      <td>FLOAT</td>\n",
       "      <td>required</td>\n",
       "      <td></td>\n",
       "      <td>-</td>\n",
       "    </tr>\n",
       "    <tr>\n",
       "      <th>'total sulfur dioxide'</th>\n",
       "      <td>FLOAT</td>\n",
       "      <td>required</td>\n",
       "      <td></td>\n",
       "      <td>-</td>\n",
       "    </tr>\n",
       "    <tr>\n",
       "      <th>'density'</th>\n",
       "      <td>FLOAT</td>\n",
       "      <td>required</td>\n",
       "      <td></td>\n",
       "      <td>-</td>\n",
       "    </tr>\n",
       "    <tr>\n",
       "      <th>'pH'</th>\n",
       "      <td>FLOAT</td>\n",
       "      <td>required</td>\n",
       "      <td></td>\n",
       "      <td>-</td>\n",
       "    </tr>\n",
       "    <tr>\n",
       "      <th>'sulphates'</th>\n",
       "      <td>FLOAT</td>\n",
       "      <td>required</td>\n",
       "      <td></td>\n",
       "      <td>-</td>\n",
       "    </tr>\n",
       "    <tr>\n",
       "      <th>'alcohol'</th>\n",
       "      <td>FLOAT</td>\n",
       "      <td>required</td>\n",
       "      <td></td>\n",
       "      <td>-</td>\n",
       "    </tr>\n",
       "    <tr>\n",
       "      <th>'quality'</th>\n",
       "      <td>INT</td>\n",
       "      <td>required</td>\n",
       "      <td></td>\n",
       "      <td>-</td>\n",
       "    </tr>\n",
       "  </tbody>\n",
       "</table>\n",
       "</div>"
      ],
      "text/plain": [
       "                         Type  Presence Valency Domain\n",
       "Feature name                                          \n",
       "'fixed acidity'         FLOAT  required              -\n",
       "'volatile acidity'      FLOAT  required              -\n",
       "'citric acid'           FLOAT  required              -\n",
       "'residual sugar'        FLOAT  required              -\n",
       "'chlorides'             FLOAT  required              -\n",
       "'free sulfur dioxide'   FLOAT  required              -\n",
       "'total sulfur dioxide'  FLOAT  required              -\n",
       "'density'               FLOAT  required              -\n",
       "'pH'                    FLOAT  required              -\n",
       "'sulphates'             FLOAT  required              -\n",
       "'alcohol'               FLOAT  required              -\n",
       "'quality'                 INT  required              -"
      ]
     },
     "metadata": {},
     "output_type": "display_data"
    }
   ],
   "source": [
    "# Display the schema \n",
    "tfdv.display_schema(schema)"
   ]
  },
  {
   "cell_type": "code",
   "execution_count": 41,
   "metadata": {},
   "outputs": [
    {
     "ename": "TypeError",
     "evalue": "dataframe argument is of type NoneType. Must be a pandas DataFrame.",
     "output_type": "error",
     "traceback": [
      "\u001b[0;31m---------------------------------------------------------------------------\u001b[0m",
      "\u001b[0;31mTypeError\u001b[0m                                 Traceback (most recent call last)",
      "\u001b[0;32m<ipython-input-41-0c2a082f7e1a>\u001b[0m in \u001b[0;36m<module>\u001b[0;34m\u001b[0m\n\u001b[1;32m      1\u001b[0m \u001b[0;31m# Generate evaluation dataset statistics\u001b[0m\u001b[0;34m\u001b[0m\u001b[0;34m\u001b[0m\u001b[0;34m\u001b[0m\u001b[0m\n\u001b[0;32m----> 2\u001b[0;31m \u001b[0meval_stats\u001b[0m \u001b[0;34m=\u001b[0m \u001b[0mtfdv\u001b[0m\u001b[0;34m.\u001b[0m\u001b[0mgenerate_statistics_from_dataframe\u001b[0m\u001b[0;34m(\u001b[0m\u001b[0meval_df\u001b[0m\u001b[0;34m)\u001b[0m\u001b[0;34m\u001b[0m\u001b[0;34m\u001b[0m\u001b[0m\n\u001b[0m\u001b[1;32m      3\u001b[0m \u001b[0;34m\u001b[0m\u001b[0m\n\u001b[1;32m      4\u001b[0m \u001b[0;31m# Compare training with evaluation\u001b[0m\u001b[0;34m\u001b[0m\u001b[0;34m\u001b[0m\u001b[0;34m\u001b[0m\u001b[0m\n\u001b[1;32m      5\u001b[0m tfdv.visualize_statistics(\n",
      "\u001b[0;32m/opt/app-root/lib/python3.6/site-packages/tensorflow_data_validation/utils/stats_gen_lib.py\u001b[0m in \u001b[0;36mgenerate_statistics_from_dataframe\u001b[0;34m(dataframe, stats_options, n_jobs)\u001b[0m\n\u001b[1;32m    208\u001b[0m   \u001b[0;32mif\u001b[0m \u001b[0;32mnot\u001b[0m \u001b[0misinstance\u001b[0m\u001b[0;34m(\u001b[0m\u001b[0mdataframe\u001b[0m\u001b[0;34m,\u001b[0m \u001b[0mDataFrame\u001b[0m\u001b[0;34m)\u001b[0m\u001b[0;34m:\u001b[0m\u001b[0;34m\u001b[0m\u001b[0;34m\u001b[0m\u001b[0m\n\u001b[1;32m    209\u001b[0m     raise TypeError('dataframe argument is of type {}. Must be a '\n\u001b[0;32m--> 210\u001b[0;31m                     'pandas DataFrame.'.format(type(dataframe).__name__))\n\u001b[0m\u001b[1;32m    211\u001b[0m \u001b[0;34m\u001b[0m\u001b[0m\n\u001b[1;32m    212\u001b[0m   stats_generators = cast(\n",
      "\u001b[0;31mTypeError\u001b[0m: dataframe argument is of type NoneType. Must be a pandas DataFrame."
     ]
    }
   ],
   "source": [
    "# Generate evaluation dataset statistics\n",
    "eval_stats = tfdv.generate_statistics_from_dataframe(eval_df)\n",
    "\n",
    "# Compare training with evaluation\n",
    "tfdv.visualize_statistics(\n",
    "    lhs_statistics=eval_stats, \n",
    "    rhs_statistics=train_stats, \n",
    "    lhs_name='EVAL_DATASET', \n",
    "    rhs_name='TRAIN_DATASET'\n",
    ")"
   ]
  },
  {
   "cell_type": "markdown",
   "metadata": {},
   "source": [
    "# Generate and visualize dataset statistics\n",
    "\n",
    "After generating stats, look at the evaluation statistics. Compute and compare the stats with the training datasets. visualize_statistics() lets you compare side-by-side.\n",
    "\n",
    "Left-Hand-Side vs. Right-Hand-Side:\n",
    "- lhs_statistics: Required parameter. Expects an instance of DatasetFeatureStatisticsList.\n",
    "- rhs_statistics: Expects an instance of DatasetFeatureStatisticsList to compare with lhs_statistics.\n",
    "- lhs_name: Name of the lhs_statistics dataset.\n",
    "- rhs_name: Name of the rhs_statistics dataset.\n",
    "\n"
   ]
  },
  {
   "cell_type": "code",
   "execution_count": 30,
   "metadata": {},
   "outputs": [],
   "source": [
    "# Generate evaluation statistucs\n",
    "\n",
    "eval_stats = tfdv.generate_statistics_from_dataframe(eval_df)"
   ]
  },
  {
   "cell_type": "code",
   "execution_count": 43,
   "metadata": {},
   "outputs": [
    {
     "data": {
      "text/html": [
       "<iframe id='facets-iframe' width=\"100%\" height=\"500px\"></iframe>\n",
       "        <script>\n",
       "        facets_iframe = document.getElementById('facets-iframe');\n",
       "        facets_html = '<script src=\"https://cdnjs.cloudflare.com/ajax/libs/webcomponentsjs/1.3.3/webcomponents-lite.js\"><\\/script><link rel=\"import\" href=\"https://raw.githubusercontent.com/PAIR-code/facets/master/facets-dist/facets-jupyter.html\"><facets-overview proto-input=\"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\"></facets-overview>';\n",
       "        facets_iframe.srcdoc = facets_html;\n",
       "         facets_iframe.id = \"\";\n",
       "         setTimeout(() => {\n",
       "           facets_iframe.setAttribute('height', facets_iframe.contentWindow.document.body.offsetHeight + 'px')\n",
       "         }, 1500)\n",
       "         </script>"
      ],
      "text/plain": [
       "<IPython.core.display.HTML object>"
      ]
     },
     "metadata": {},
     "output_type": "display_data"
    }
   ],
   "source": [
    "# Compare training with evaluation\n",
    "tfdv.visualize_statistics(\n",
    "    lhs_statistics=eval_stats, \n",
    "    rhs_statistics=train_stats, \n",
    "    lhs_name='EVAL_DATASET', \n",
    "    rhs_name='TRAIN_DATASET'\n",
    ")\n",
    "\n",
    "# If you sort by Amount missing/zeros, you'll see a high percentage in citric acid"
   ]
  },
  {
   "cell_type": "markdown",
   "metadata": {},
   "source": [
    "# Calculate evaluation dataset statistics\n",
    "\n",
    "Check for anomalies, like new values, for a specific feature in the eval data. https://www.tensorflow.org/tfx/data_validation/anomalies"
   ]
  },
  {
   "cell_type": "code",
   "execution_count": 48,
   "metadata": {},
   "outputs": [
    {
     "name": "stderr",
     "output_type": "stream",
     "text": [
      "/opt/app-root/lib/python3.6/site-packages/tensorflow_data_validation/utils/display_util.py:217: FutureWarning: Passing a negative integer is deprecated in version 1.0 and will not be supported in future version. Instead, use None to not limit the column width.\n",
      "  pd.set_option('max_colwidth', -1)\n"
     ]
    },
    {
     "data": {
      "text/html": [
       "<h4 style=\"color:green;\">No anomalies found.</h4>"
      ],
      "text/plain": [
       "<IPython.core.display.HTML object>"
      ]
     },
     "metadata": {},
     "output_type": "display_data"
    }
   ],
   "source": [
    "# check eval data for errors\n",
    "anomalies = tfdv.validate_statistics(statistics=eval_stats, schema=schema)\n",
    "\n",
    "# Visualize anomalies\n",
    "tfdv.display_anomalies(anomalies)"
   ]
  },
  {
   "cell_type": "markdown",
   "metadata": {},
   "source": [
    "# Examine dataset slices\n",
    "\n",
    "Inspect feature types in your dataset using the get_feature_value_slicer method. If you want to get the entire domain of a feature, then you can map the feature name with None as shown below. This means that you will get slices for both Male and Female entries."
   ]
  },
  {
   "cell_type": "code",
   "execution_count": 57,
   "metadata": {},
   "outputs": [],
   "source": [
    "# First, you will use the get_feature_value_slicer method from the slicing_util to get the features you want to examine. You can specify that by passing a dictionary to the features argument. \n",
    "from tensorflow_data_validation.utils import slicing_util\n",
    "\n",
    "slice_fn = slicing_util.get_feature_value_slicer(features={'fixed acidity': None})"
   ]
  },
  {
   "cell_type": "code",
   "execution_count": 58,
   "metadata": {},
   "outputs": [],
   "source": [
    "# With the slice function ready, you can now generate the statistics. You need to tell TFDV that you need statistics for the features you set and you can do that through the slice_functions argument of tfdv.StatsOptions\n",
    "slice_stats_options = tfdv.StatsOptions(schema=schema,\n",
    "                                        slice_functions=[slice_fn],\n",
    "                                        infer_type_from_schema=True)"
   ]
  },
  {
   "cell_type": "code",
   "execution_count": 61,
   "metadata": {},
   "outputs": [
    {
     "name": "stderr",
     "output_type": "stream",
     "text": [
      "WARNING:apache_beam.runners.interactive.interactive_environment:Dependencies required for Interactive Beam PCollection visualization are not available, please use: `pip install apache-beam[interactive]` to install necessary dependencies to enable all data visualization features.\n"
     ]
    },
    {
     "data": {
      "application/javascript": [
       "\n",
       "        if (typeof window.interactive_beam_jquery == 'undefined') {\n",
       "          var jqueryScript = document.createElement('script');\n",
       "          jqueryScript.src = 'https://code.jquery.com/jquery-3.4.1.slim.min.js';\n",
       "          jqueryScript.type = 'text/javascript';\n",
       "          jqueryScript.onload = function() {\n",
       "            var datatableScript = document.createElement('script');\n",
       "            datatableScript.src = 'https://cdn.datatables.net/1.10.20/js/jquery.dataTables.min.js';\n",
       "            datatableScript.type = 'text/javascript';\n",
       "            datatableScript.onload = function() {\n",
       "              window.interactive_beam_jquery = jQuery.noConflict(true);\n",
       "              window.interactive_beam_jquery(document).ready(function($){\n",
       "                \n",
       "              });\n",
       "            }\n",
       "            document.head.appendChild(datatableScript);\n",
       "          };\n",
       "          document.head.appendChild(jqueryScript);\n",
       "        } else {\n",
       "          window.interactive_beam_jquery(document).ready(function($){\n",
       "            \n",
       "          });\n",
       "        }"
      ]
     },
     "metadata": {},
     "output_type": "display_data"
    },
    {
     "name": "stderr",
     "output_type": "stream",
     "text": [
      "WARNING:root:Make sure that locally built Python SDK docker image has Python 3.6 interpreter.\n",
      "WARNING:apache_beam.io.tfrecordio:Couldn't find python-snappy so the implementation of _TFRecordUtil._masked_crc32c is not as fast as it could be.\n"
     ]
    },
    {
     "name": "stdout",
     "output_type": "stream",
     "text": [
      "WARNING:tensorflow:From /opt/app-root/lib/python3.6/site-packages/tensorflow_data_validation/utils/stats_util.py:247: tf_record_iterator (from tensorflow.python.lib.io.tf_record) is deprecated and will be removed in a future version.\n",
      "Instructions for updating:\n",
      "Use eager execution and: \n",
      "`tf.data.TFRecordDataset(path)`\n"
     ]
    },
    {
     "name": "stderr",
     "output_type": "stream",
     "text": [
      "WARNING:tensorflow:From /opt/app-root/lib/python3.6/site-packages/tensorflow_data_validation/utils/stats_util.py:247: tf_record_iterator (from tensorflow.python.lib.io.tf_record) is deprecated and will be removed in a future version.\n",
      "Instructions for updating:\n",
      "Use eager execution and: \n",
      "`tf.data.TFRecordDataset(path)`\n"
     ]
    }
   ],
   "source": [
    "# Convert dataframe to CSV since `slice_functions` works only with `tfdv.generate_statistics_from_csv`\n",
    "CSV_PATH = \"../data/processed/slice_sample.csv\"\n",
    "train_df.to_csv(CSV_PATH)\n",
    "\n",
    "sliced_stats = tfdv.generate_statistics_from_csv(CSV_PATH, stats_options=slice_stats_options)"
   ]
  },
  {
   "cell_type": "code",
   "execution_count": 62,
   "metadata": {},
   "outputs": [
    {
     "name": "stdout",
     "output_type": "stream",
     "text": [
      "Datasets generated: ['All Examples', 'fixed acidity_7.400000095367432', 'fixed acidity_7.800000190734863', 'fixed acidity_11.199999809265137', 'fixed acidity_7.900000095367432', 'fixed acidity_7.300000190734863', 'fixed acidity_7.5', 'fixed acidity_6.699999809265137', 'fixed acidity_5.599999904632568', 'fixed acidity_8.899999618530273', 'fixed acidity_8.5', 'fixed acidity_8.100000381469727', 'fixed acidity_7.599999904632568', 'fixed acidity_6.900000095367432', 'fixed acidity_6.300000190734863', 'fixed acidity_7.099999904632568', 'fixed acidity_8.300000190734863', 'fixed acidity_5.199999809265137', 'fixed acidity_5.699999809265137', 'fixed acidity_8.800000190734863', 'fixed acidity_6.800000190734863', 'fixed acidity_4.599999904632568', 'fixed acidity_7.699999809265137', 'fixed acidity_8.699999809265137', 'fixed acidity_6.400000095367432', 'fixed acidity_6.599999904632568', 'fixed acidity_8.600000381469727', 'fixed acidity_10.199999809265137', 'fixed acidity_7.0', 'fixed acidity_7.199999809265137', 'fixed acidity_9.300000190734863', 'fixed acidity_8.0', 'fixed acidity_9.699999809265137', 'fixed acidity_6.199999809265137', 'fixed acidity_5.0', 'fixed acidity_4.699999809265137', 'fixed acidity_8.399999618530273', 'fixed acidity_10.100000381469727', 'fixed acidity_9.399999618530273', 'fixed acidity_9.0', 'fixed acidity_8.199999809265137', 'fixed acidity_6.099999904632568', 'fixed acidity_5.800000190734863', 'fixed acidity_9.199999809265137', 'fixed acidity_11.5', 'fixed acidity_5.400000095367432', 'fixed acidity_9.600000381469727', 'fixed acidity_12.800000190734863', 'fixed acidity_11.0', 'fixed acidity_11.600000381469727', 'fixed acidity_12.0', 'fixed acidity_15.0', 'fixed acidity_10.800000190734863', 'fixed acidity_11.100000381469727', 'fixed acidity_10.0', 'fixed acidity_12.5', 'fixed acidity_11.800000190734863', 'fixed acidity_10.899999618530273', 'fixed acidity_10.300000190734863', 'fixed acidity_11.399999618530273', 'fixed acidity_9.899999618530273', 'fixed acidity_10.399999618530273', 'fixed acidity_13.300000190734863', 'fixed acidity_10.600000381469727', 'fixed acidity_9.800000190734863', 'fixed acidity_13.399999618530273', 'fixed acidity_10.699999809265137', 'fixed acidity_11.899999618530273', 'fixed acidity_12.399999618530273', 'fixed acidity_12.199999809265137', 'fixed acidity_13.800000190734863', 'fixed acidity_9.100000381469727', 'fixed acidity_13.5', 'fixed acidity_10.5', 'fixed acidity_12.600000381469727', 'fixed acidity_14.0', 'fixed acidity_13.699999809265137', 'fixed acidity_9.5', 'fixed acidity_12.699999809265137', 'fixed acidity_12.300000190734863', 'fixed acidity_15.600000381469727', 'fixed acidity_5.300000190734863', 'fixed acidity_11.300000190734863', 'fixed acidity_13.0', 'fixed acidity_6.5', 'fixed acidity_12.899999618530273', 'fixed acidity_14.300000190734863', 'fixed acidity_15.5', 'fixed acidity_11.699999809265137', 'fixed acidity_13.199999809265137', 'fixed acidity_15.899999618530273', 'fixed acidity_12.100000381469727', 'fixed acidity_5.099999904632568', 'fixed acidity_4.900000095367432', 'fixed acidity_5.900000095367432', 'fixed acidity_6.0', 'fixed acidity_5.5']\n",
      "Type of sliced_stats elements: <class 'tensorflow_metadata.proto.v0.statistics_pb2.DatasetFeatureStatistics'>\n"
     ]
    }
   ],
   "source": [
    "# you now have the statistics for the set slice. These are packed into a DatasetFeatureStatisticsList protocol buffer. You can see the dataset names below. The first element in the list (i.e. index=0) is named All_Examples which just contains the statistics for the entire dataset. \n",
    "print(f'Datasets generated: {[sliced.name for sliced in sliced_stats.datasets]}')\n",
    "\n",
    "print(f'Type of sliced_stats elements: {type(sliced_stats.datasets[0])}')"
   ]
  },
  {
   "cell_type": "markdown",
   "metadata": {},
   "source": [
    "You can then visualize the statistics as before to examine the slices. An important caveat is visualize_statistics() accepts a DatasetFeatureStatisticsList type instead of DatasetFeatureStatistics. Thus, at least for this version of TFDV, you will need to convert it to the correct type."
   ]
  },
  {
   "cell_type": "code",
   "execution_count": null,
   "metadata": {},
   "outputs": [],
   "source": []
  }
 ],
 "metadata": {
  "kernelspec": {
   "display_name": "Python 3",
   "language": "python",
   "name": "python3"
  },
  "language_info": {
   "codemirror_mode": {
    "name": "ipython",
    "version": 3
   },
   "file_extension": ".py",
   "mimetype": "text/x-python",
   "name": "python",
   "nbconvert_exporter": "python",
   "pygments_lexer": "ipython3",
   "version": "3.6.8"
  },
  "toc": {
   "base_numbering": 1,
   "nav_menu": {},
   "number_sections": true,
   "sideBar": true,
   "skip_h1_title": false,
   "title_cell": "Table of Contents",
   "title_sidebar": "Contents",
   "toc_cell": false,
   "toc_position": {},
   "toc_section_display": true,
   "toc_window_display": false
  }
 },
 "nbformat": 4,
 "nbformat_minor": 4
}
